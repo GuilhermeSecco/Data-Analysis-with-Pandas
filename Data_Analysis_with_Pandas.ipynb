{
  "nbformat": 4,
  "nbformat_minor": 0,
  "metadata": {
    "colab": {
      "provenance": [],
      "authorship_tag": "ABX9TyNLL9DgLvKwTscMk6f8qJjG",
      "include_colab_link": true
    },
    "kernelspec": {
      "name": "python3",
      "display_name": "Python 3"
    },
    "language_info": {
      "name": "python"
    }
  },
  "cells": [
    {
      "cell_type": "markdown",
      "metadata": {
        "id": "view-in-github",
        "colab_type": "text"
      },
      "source": [
        "<a href=\"https://colab.research.google.com/github/GuilhermeSecco/Data-Analysis-with-Pandas/blob/main/Data_Analysis_with_Pandas.ipynb\" target=\"_parent\"><img src=\"https://colab.research.google.com/assets/colab-badge.svg\" alt=\"Open In Colab\"/></a>"
      ]
    },
    {
      "cell_type": "markdown",
      "source": [
        "Importing Files"
      ],
      "metadata": {
        "id": "cVL7VcwdUw6G"
      }
    },
    {
      "cell_type": "code",
      "execution_count": 3,
      "metadata": {
        "colab": {
          "base_uri": "https://localhost:8080/",
          "height": 74
        },
        "id": "JW-UVtx1UNbd",
        "outputId": "0c325d90-b20d-4564-d237-8ccabfa5e371"
      },
      "outputs": [
        {
          "output_type": "display_data",
          "data": {
            "text/plain": [
              "<IPython.core.display.HTML object>"
            ],
            "text/html": [
              "\n",
              "     <input type=\"file\" id=\"files-14e947cf-3a7e-4f7c-a93b-a213cc117dd9\" name=\"files[]\" multiple disabled\n",
              "        style=\"border:none\" />\n",
              "     <output id=\"result-14e947cf-3a7e-4f7c-a93b-a213cc117dd9\">\n",
              "      Upload widget is only available when the cell has been executed in the\n",
              "      current browser session. Please rerun this cell to enable.\n",
              "      </output>\n",
              "      <script>// Copyright 2017 Google LLC\n",
              "//\n",
              "// Licensed under the Apache License, Version 2.0 (the \"License\");\n",
              "// you may not use this file except in compliance with the License.\n",
              "// You may obtain a copy of the License at\n",
              "//\n",
              "//      http://www.apache.org/licenses/LICENSE-2.0\n",
              "//\n",
              "// Unless required by applicable law or agreed to in writing, software\n",
              "// distributed under the License is distributed on an \"AS IS\" BASIS,\n",
              "// WITHOUT WARRANTIES OR CONDITIONS OF ANY KIND, either express or implied.\n",
              "// See the License for the specific language governing permissions and\n",
              "// limitations under the License.\n",
              "\n",
              "/**\n",
              " * @fileoverview Helpers for google.colab Python module.\n",
              " */\n",
              "(function(scope) {\n",
              "function span(text, styleAttributes = {}) {\n",
              "  const element = document.createElement('span');\n",
              "  element.textContent = text;\n",
              "  for (const key of Object.keys(styleAttributes)) {\n",
              "    element.style[key] = styleAttributes[key];\n",
              "  }\n",
              "  return element;\n",
              "}\n",
              "\n",
              "// Max number of bytes which will be uploaded at a time.\n",
              "const MAX_PAYLOAD_SIZE = 100 * 1024;\n",
              "\n",
              "function _uploadFiles(inputId, outputId) {\n",
              "  const steps = uploadFilesStep(inputId, outputId);\n",
              "  const outputElement = document.getElementById(outputId);\n",
              "  // Cache steps on the outputElement to make it available for the next call\n",
              "  // to uploadFilesContinue from Python.\n",
              "  outputElement.steps = steps;\n",
              "\n",
              "  return _uploadFilesContinue(outputId);\n",
              "}\n",
              "\n",
              "// This is roughly an async generator (not supported in the browser yet),\n",
              "// where there are multiple asynchronous steps and the Python side is going\n",
              "// to poll for completion of each step.\n",
              "// This uses a Promise to block the python side on completion of each step,\n",
              "// then passes the result of the previous step as the input to the next step.\n",
              "function _uploadFilesContinue(outputId) {\n",
              "  const outputElement = document.getElementById(outputId);\n",
              "  const steps = outputElement.steps;\n",
              "\n",
              "  const next = steps.next(outputElement.lastPromiseValue);\n",
              "  return Promise.resolve(next.value.promise).then((value) => {\n",
              "    // Cache the last promise value to make it available to the next\n",
              "    // step of the generator.\n",
              "    outputElement.lastPromiseValue = value;\n",
              "    return next.value.response;\n",
              "  });\n",
              "}\n",
              "\n",
              "/**\n",
              " * Generator function which is called between each async step of the upload\n",
              " * process.\n",
              " * @param {string} inputId Element ID of the input file picker element.\n",
              " * @param {string} outputId Element ID of the output display.\n",
              " * @return {!Iterable<!Object>} Iterable of next steps.\n",
              " */\n",
              "function* uploadFilesStep(inputId, outputId) {\n",
              "  const inputElement = document.getElementById(inputId);\n",
              "  inputElement.disabled = false;\n",
              "\n",
              "  const outputElement = document.getElementById(outputId);\n",
              "  outputElement.innerHTML = '';\n",
              "\n",
              "  const pickedPromise = new Promise((resolve) => {\n",
              "    inputElement.addEventListener('change', (e) => {\n",
              "      resolve(e.target.files);\n",
              "    });\n",
              "  });\n",
              "\n",
              "  const cancel = document.createElement('button');\n",
              "  inputElement.parentElement.appendChild(cancel);\n",
              "  cancel.textContent = 'Cancel upload';\n",
              "  const cancelPromise = new Promise((resolve) => {\n",
              "    cancel.onclick = () => {\n",
              "      resolve(null);\n",
              "    };\n",
              "  });\n",
              "\n",
              "  // Wait for the user to pick the files.\n",
              "  const files = yield {\n",
              "    promise: Promise.race([pickedPromise, cancelPromise]),\n",
              "    response: {\n",
              "      action: 'starting',\n",
              "    }\n",
              "  };\n",
              "\n",
              "  cancel.remove();\n",
              "\n",
              "  // Disable the input element since further picks are not allowed.\n",
              "  inputElement.disabled = true;\n",
              "\n",
              "  if (!files) {\n",
              "    return {\n",
              "      response: {\n",
              "        action: 'complete',\n",
              "      }\n",
              "    };\n",
              "  }\n",
              "\n",
              "  for (const file of files) {\n",
              "    const li = document.createElement('li');\n",
              "    li.append(span(file.name, {fontWeight: 'bold'}));\n",
              "    li.append(span(\n",
              "        `(${file.type || 'n/a'}) - ${file.size} bytes, ` +\n",
              "        `last modified: ${\n",
              "            file.lastModifiedDate ? file.lastModifiedDate.toLocaleDateString() :\n",
              "                                    'n/a'} - `));\n",
              "    const percent = span('0% done');\n",
              "    li.appendChild(percent);\n",
              "\n",
              "    outputElement.appendChild(li);\n",
              "\n",
              "    const fileDataPromise = new Promise((resolve) => {\n",
              "      const reader = new FileReader();\n",
              "      reader.onload = (e) => {\n",
              "        resolve(e.target.result);\n",
              "      };\n",
              "      reader.readAsArrayBuffer(file);\n",
              "    });\n",
              "    // Wait for the data to be ready.\n",
              "    let fileData = yield {\n",
              "      promise: fileDataPromise,\n",
              "      response: {\n",
              "        action: 'continue',\n",
              "      }\n",
              "    };\n",
              "\n",
              "    // Use a chunked sending to avoid message size limits. See b/62115660.\n",
              "    let position = 0;\n",
              "    do {\n",
              "      const length = Math.min(fileData.byteLength - position, MAX_PAYLOAD_SIZE);\n",
              "      const chunk = new Uint8Array(fileData, position, length);\n",
              "      position += length;\n",
              "\n",
              "      const base64 = btoa(String.fromCharCode.apply(null, chunk));\n",
              "      yield {\n",
              "        response: {\n",
              "          action: 'append',\n",
              "          file: file.name,\n",
              "          data: base64,\n",
              "        },\n",
              "      };\n",
              "\n",
              "      let percentDone = fileData.byteLength === 0 ?\n",
              "          100 :\n",
              "          Math.round((position / fileData.byteLength) * 100);\n",
              "      percent.textContent = `${percentDone}% done`;\n",
              "\n",
              "    } while (position < fileData.byteLength);\n",
              "  }\n",
              "\n",
              "  // All done.\n",
              "  yield {\n",
              "    response: {\n",
              "      action: 'complete',\n",
              "    }\n",
              "  };\n",
              "}\n",
              "\n",
              "scope.google = scope.google || {};\n",
              "scope.google.colab = scope.google.colab || {};\n",
              "scope.google.colab._files = {\n",
              "  _uploadFiles,\n",
              "  _uploadFilesContinue,\n",
              "};\n",
              "})(self);\n",
              "</script> "
            ]
          },
          "metadata": {}
        },
        {
          "output_type": "stream",
          "name": "stdout",
          "text": [
            "Saving data.csv to data.csv\n"
          ]
        }
      ],
      "source": [
        "from google.colab import files\n",
        "uploaded = files.upload()\n",
        "\n"
      ]
    },
    {
      "cell_type": "markdown",
      "source": [
        "Importing Libraries"
      ],
      "metadata": {
        "id": "lNha7B_1U2gF"
      }
    },
    {
      "cell_type": "code",
      "source": [
        "import numpy as np\n",
        "import pandas as pd\n",
        "import matplotlib.pyplot as plt\n",
        "import seaborn as sns\n",
        "import warnings\n",
        "warnings.filterwarnings(\"ignore\")"
      ],
      "metadata": {
        "id": "w6aK_PW0Uv5F"
      },
      "execution_count": 41,
      "outputs": []
    },
    {
      "cell_type": "markdown",
      "source": [
        "Setting Pandas to show all columns and rows"
      ],
      "metadata": {
        "id": "yhLzaIk3VLXg"
      }
    },
    {
      "cell_type": "code",
      "source": [
        "pd.set_option('display.max_columns', None)\n",
        "pd.set_option('display.max_rows', None)"
      ],
      "metadata": {
        "id": "c2RWn13YVBih"
      },
      "execution_count": 6,
      "outputs": []
    },
    {
      "cell_type": "markdown",
      "source": [
        "Using pandas to read data.csv"
      ],
      "metadata": {
        "id": "zX3OBbQjVQzu"
      }
    },
    {
      "cell_type": "code",
      "source": [
        "df = pd.read_csv(\"data.csv\", sep= ';', encoding='ISO-8859-1')"
      ],
      "metadata": {
        "id": "le6SANeeVcoS"
      },
      "execution_count": 7,
      "outputs": []
    },
    {
      "cell_type": "markdown",
      "source": [
        "Testing the df"
      ],
      "metadata": {
        "id": "VrPIk9hqV9Ss"
      }
    },
    {
      "cell_type": "code",
      "source": [
        "print(df.shape)\n",
        "print(df.head())\n",
        "print(df.tail())"
      ],
      "metadata": {
        "colab": {
          "base_uri": "https://localhost:8080/"
        },
        "id": "sC2VRkLAVjfA",
        "outputId": "cb6e51d7-92b2-48fc-d6f3-6185ac6dac9c"
      },
      "execution_count": 8,
      "outputs": [
        {
          "output_type": "stream",
          "name": "stdout",
          "text": [
            "(343297, 13)\n",
            "   ID_CLIENTE DATA_AQUISICAO  DIAS_ATIVO  MESES_ATIVO  PRAZO_FINANCIAMENTO  \\\n",
            "0       66221     18/06/2021          33            1                  120   \n",
            "1       46982     10/04/2018        1198           39                  120   \n",
            "2       57888     09/10/2020         285            9                  120   \n",
            "3       51915     25/06/2019         757           25                  120   \n",
            "4       52724     19/09/2019         671           22                  120   \n",
            "\n",
            "   VALOR_TABELA  IDADE_CLIENTE       PRODUTO  QT_PC_PAGAS  QT_PC_VENCIDAS  \\\n",
            "0         20000           42.0  MOTOCICLETAS            1               4   \n",
            "1         80000           38.0    AUTOMOVEIS            5               0   \n",
            "2        230000           75.0     CAMINHÕES            5               0   \n",
            "3         80000           43.0    AUTOMOVEIS            5               0   \n",
            "4         80000           66.0    AUTOMOVEIS            5               0   \n",
            "\n",
            "   QT_PC_PAGA_ATRASO  QT_PC_PAGA_EM_DIA  VALOR_PARCELAS_ATRASO  \n",
            "0                  0                  1                    667  \n",
            "1                  1                  4                      0  \n",
            "2                  3                  2                      0  \n",
            "3                  1                  4                      0  \n",
            "4                  5                  0                      0  \n",
            "        ID_CLIENTE DATA_AQUISICAO  DIAS_ATIVO  MESES_ATIVO  \\\n",
            "343292    29393160     26/01/2018         166            6   \n",
            "343293    25093062     15/04/2016         176            6   \n",
            "343294    31101650     30/09/2019         163            6   \n",
            "343295    26930480     16/01/2015         165            5   \n",
            "343296    27876161     29/04/2016         154            5   \n",
            "\n",
            "        PRAZO_FINANCIAMENTO  VALOR_TABELA  IDADE_CLIENTE     PRODUTO  \\\n",
            "343292                  120         80000           40.0  AUTOMOVEIS   \n",
            "343293                   60         80000           46.0  AUTOMOVEIS   \n",
            "343294                   60         80000           29.0  AUTOMOVEIS   \n",
            "343295                  120         80000           62.0  AUTOMOVEIS   \n",
            "343296                  120         80000           25.0  AUTOMOVEIS   \n",
            "\n",
            "        QT_PC_PAGAS  QT_PC_VENCIDAS  QT_PC_PAGA_ATRASO  QT_PC_PAGA_EM_DIA  \\\n",
            "343292            2               4                  0                  2   \n",
            "343293            2               4                  1                  1   \n",
            "343294            2               3                  0                  2   \n",
            "343295            3               3                  0                  3   \n",
            "343296            3               3                  1                  2   \n",
            "\n",
            "        VALOR_PARCELAS_ATRASO  \n",
            "343292                   2667  \n",
            "343293                   5333  \n",
            "343294                   4000  \n",
            "343295                   2000  \n",
            "343296                   2000  \n"
          ]
        }
      ]
    },
    {
      "cell_type": "markdown",
      "source": [
        "Setting the start and the ending"
      ],
      "metadata": {
        "id": "qCXzOVYNWHoK"
      }
    },
    {
      "cell_type": "code",
      "source": [
        "start = pd.to_datetime(df['DATA_AQUISICAO']).dt.date.min()\n",
        "end = pd.to_datetime(df['DATA_AQUISICAO']).dt.date.max()"
      ],
      "metadata": {
        "id": "_ayYHtiVVnEW"
      },
      "execution_count": 11,
      "outputs": []
    },
    {
      "cell_type": "markdown",
      "source": [
        "Printing the data's time period"
      ],
      "metadata": {
        "id": "GJNPT2D1WSgn"
      }
    },
    {
      "cell_type": "code",
      "source": [
        "print('\\nData from:', start, 'to', end,'\\n')"
      ],
      "metadata": {
        "colab": {
          "base_uri": "https://localhost:8080/"
        },
        "id": "qNMEfU6-Wa5n",
        "outputId": "a8173785-5b1c-4fa4-a848-5dbbed3e7610"
      },
      "execution_count": 12,
      "outputs": [
        {
          "output_type": "stream",
          "name": "stdout",
          "text": [
            "\n",
            "Data from: 2015-01-02 to 2021-06-29 \n",
            "\n"
          ]
        }
      ]
    },
    {
      "cell_type": "markdown",
      "source": [
        "Verifying Columns and confirm data types"
      ],
      "metadata": {
        "id": "nX1a42OXW88I"
      }
    },
    {
      "cell_type": "code",
      "source": [
        "print(df.info(),'\\n')"
      ],
      "metadata": {
        "colab": {
          "base_uri": "https://localhost:8080/"
        },
        "id": "dZq-HNqfXEcj",
        "outputId": "16c19c0c-8841-4e67-a23b-61e83ce32f62"
      },
      "execution_count": 13,
      "outputs": [
        {
          "output_type": "stream",
          "name": "stdout",
          "text": [
            "<class 'pandas.core.frame.DataFrame'>\n",
            "RangeIndex: 343297 entries, 0 to 343296\n",
            "Data columns (total 13 columns):\n",
            " #   Column                 Non-Null Count   Dtype  \n",
            "---  ------                 --------------   -----  \n",
            " 0   ID_CLIENTE             343297 non-null  int64  \n",
            " 1   DATA_AQUISICAO         343297 non-null  object \n",
            " 2   DIAS_ATIVO             343297 non-null  int64  \n",
            " 3   MESES_ATIVO            343297 non-null  int64  \n",
            " 4   PRAZO_FINANCIAMENTO    343297 non-null  int64  \n",
            " 5   VALOR_TABELA           343297 non-null  int64  \n",
            " 6   IDADE_CLIENTE          343285 non-null  float64\n",
            " 7   PRODUTO                343297 non-null  object \n",
            " 8   QT_PC_PAGAS            343297 non-null  int64  \n",
            " 9   QT_PC_VENCIDAS         343297 non-null  int64  \n",
            " 10  QT_PC_PAGA_ATRASO      343297 non-null  int64  \n",
            " 11  QT_PC_PAGA_EM_DIA      343297 non-null  int64  \n",
            " 12  VALOR_PARCELAS_ATRASO  343297 non-null  int64  \n",
            "dtypes: float64(1), int64(10), object(2)\n",
            "memory usage: 34.0+ MB\n",
            "None \n",
            "\n"
          ]
        }
      ]
    },
    {
      "cell_type": "markdown",
      "source": [
        "Verifying null fields"
      ],
      "metadata": {
        "id": "YFo7bKjfXX43"
      }
    },
    {
      "cell_type": "code",
      "source": [
        "print(df.isnull().sum(),'\\n')"
      ],
      "metadata": {
        "colab": {
          "base_uri": "https://localhost:8080/"
        },
        "id": "pCISmPqTXOii",
        "outputId": "10a58c3a-ab0a-44be-8151-face595b2767"
      },
      "execution_count": 15,
      "outputs": [
        {
          "output_type": "stream",
          "name": "stdout",
          "text": [
            "ID_CLIENTE                0\n",
            "DATA_AQUISICAO            0\n",
            "DIAS_ATIVO                0\n",
            "MESES_ATIVO               0\n",
            "PRAZO_FINANCIAMENTO       0\n",
            "VALOR_TABELA              0\n",
            "IDADE_CLIENTE            12\n",
            "PRODUTO                   0\n",
            "QT_PC_PAGAS               0\n",
            "QT_PC_VENCIDAS            0\n",
            "QT_PC_PAGA_ATRASO         0\n",
            "QT_PC_PAGA_EM_DIA         0\n",
            "VALOR_PARCELAS_ATRASO     0\n",
            "dtype: int64 \n",
            "\n"
          ]
        }
      ]
    },
    {
      "cell_type": "markdown",
      "source": [
        "Verifying the null fields"
      ],
      "metadata": {
        "id": "ABRBmjPuXiYz"
      }
    },
    {
      "cell_type": "code",
      "source": [
        "print(df[df['IDADE_CLIENTE'].isnull()])"
      ],
      "metadata": {
        "colab": {
          "base_uri": "https://localhost:8080/"
        },
        "id": "sVcSm1qnXm30",
        "outputId": "df13740d-038b-422c-dfd6-791d92cd8fe2"
      },
      "execution_count": 16,
      "outputs": [
        {
          "output_type": "stream",
          "name": "stdout",
          "text": [
            "        ID_CLIENTE DATA_AQUISICAO  DIAS_ATIVO  MESES_ATIVO  \\\n",
            "99022      1916725     19/02/2018        1248           41   \n",
            "99023      1916758     19/02/2018        1248           41   \n",
            "99198      1910034     27/07/2018        1090           36   \n",
            "121158     1914991     22/12/2015         161            5   \n",
            "121389     1896048     25/08/2016         159            5   \n",
            "121415     1881833     03/02/2017         178            5   \n",
            "121535     1915604     31/08/2017         153            5   \n",
            "121536     1914815     31/08/2017         153            5   \n",
            "121662     1914762     03/01/2018         174            5   \n",
            "121663     1915642     03/01/2018         174            5   \n",
            "121812     1918935     10/05/2018         173            5   \n",
            "121822     1918259     11/06/2018         172            5   \n",
            "\n",
            "        PRAZO_FINANCIAMENTO  VALOR_TABELA  IDADE_CLIENTE       PRODUTO  \\\n",
            "99022                   240        300000            NaN       IMOVEIS   \n",
            "99023                   240        300000            NaN       IMOVEIS   \n",
            "99198                   240        300000            NaN       IMOVEIS   \n",
            "121158                  240        300000            NaN       IMOVEIS   \n",
            "121389                  120         20000            NaN  MOTOCICLETAS   \n",
            "121415                  120         80000            NaN    AUTOMOVEIS   \n",
            "121535                  240        300000            NaN       IMOVEIS   \n",
            "121536                  240        300000            NaN       IMOVEIS   \n",
            "121662                  240        300000            NaN       IMOVEIS   \n",
            "121663                  240        300000            NaN       IMOVEIS   \n",
            "121812                  240        300000            NaN       IMOVEIS   \n",
            "121822                  240        300000            NaN       IMOVEIS   \n",
            "\n",
            "        QT_PC_PAGAS  QT_PC_VENCIDAS  QT_PC_PAGA_ATRASO  QT_PC_PAGA_EM_DIA  \\\n",
            "99022             0               0                  0                  0   \n",
            "99023             0               0                  0                  0   \n",
            "99198             0               0                  0                  0   \n",
            "121158            0               3                  0                  0   \n",
            "121389            0               3                  0                  0   \n",
            "121415            0               3                  0                  0   \n",
            "121535            0               3                  0                  0   \n",
            "121536            0               3                  0                  0   \n",
            "121662            0               1                  0                  0   \n",
            "121663            0               1                  0                  0   \n",
            "121812            0               1                  0                  0   \n",
            "121822            0               3                  0                  0   \n",
            "\n",
            "        VALOR_PARCELAS_ATRASO  \n",
            "99022                       0  \n",
            "99023                       0  \n",
            "99198                       0  \n",
            "121158                   3750  \n",
            "121389                    500  \n",
            "121415                   2000  \n",
            "121535                   3750  \n",
            "121536                   3750  \n",
            "121662                   1250  \n",
            "121663                   1250  \n",
            "121812                   1250  \n",
            "121822                   3750  \n"
          ]
        }
      ]
    },
    {
      "cell_type": "markdown",
      "source": [
        "Displaying active days mean, median and std"
      ],
      "metadata": {
        "id": "qoIfoVrLXxAC"
      }
    },
    {
      "cell_type": "code",
      "source": [
        "print(df['DIAS_ATIVO'].mean())\n",
        "print(df['DIAS_ATIVO'].median())\n",
        "print(df['DIAS_ATIVO'].std())"
      ],
      "metadata": {
        "id": "RV7xFRmbX1ZZ"
      },
      "execution_count": null,
      "outputs": []
    },
    {
      "cell_type": "markdown",
      "source": [
        "Displaying an overview of the data"
      ],
      "metadata": {
        "id": "JRyhJgcRX_ry"
      }
    },
    {
      "cell_type": "code",
      "source": [
        "print(df.describe())"
      ],
      "metadata": {
        "colab": {
          "base_uri": "https://localhost:8080/"
        },
        "id": "9yMum6lTYLeZ",
        "outputId": "01a67c07-f8d8-4cc4-8b64-5fa34e0c0557"
      },
      "execution_count": 21,
      "outputs": [
        {
          "output_type": "stream",
          "name": "stdout",
          "text": [
            "         ID_CLIENTE     DIAS_ATIVO    MESES_ATIVO  PRAZO_FINANCIAMENTO  \\\n",
            "count  3.432970e+05  343297.000000  343297.000000        343297.000000   \n",
            "mean   1.109177e+08     520.941357      16.968756           111.128277   \n",
            "std    2.173070e+08     379.752907      12.449125            53.600725   \n",
            "min    2.906000e+03      22.000000       1.000000            36.000000   \n",
            "25%    5.999570e+05     170.000000       5.000000            60.000000   \n",
            "50%    1.935123e+06     405.000000      13.000000           120.000000   \n",
            "75%    2.991064e+07     841.000000      27.000000           120.000000   \n",
            "max    5.711189e+08    1296.000000      42.000000           240.000000   \n",
            "\n",
            "        VALOR_TABELA  IDADE_CLIENTE    QT_PC_PAGAS  QT_PC_VENCIDAS  \\\n",
            "count  343297.000000  343285.000000  343297.000000   343297.000000   \n",
            "mean   106773.610023      40.330673       4.090432        0.792643   \n",
            "std     83855.559536      12.511816       1.409509        1.337265   \n",
            "min     20000.000000       0.000000       0.000000        0.000000   \n",
            "25%     80000.000000      31.000000       3.000000        0.000000   \n",
            "50%     80000.000000      39.000000       5.000000        0.000000   \n",
            "75%     80000.000000      48.000000       5.000000        2.000000   \n",
            "max    300000.000000     100.000000     100.000000       11.000000   \n",
            "\n",
            "       QT_PC_PAGA_ATRASO  QT_PC_PAGA_EM_DIA  VALOR_PARCELAS_ATRASO  \n",
            "count      343297.000000      343297.000000          343297.000000  \n",
            "mean            0.579111           3.511321             711.308485  \n",
            "std             0.911053           1.544981            1435.840718  \n",
            "min             0.000000           0.000000               0.000000  \n",
            "25%             0.000000           2.000000               0.000000  \n",
            "50%             0.000000           4.000000               0.000000  \n",
            "75%             1.000000           5.000000            1250.000000  \n",
            "max             6.000000         100.000000           41667.000000  \n"
          ]
        }
      ]
    },
    {
      "cell_type": "markdown",
      "source": [
        "Testing some Values"
      ],
      "metadata": {
        "id": "VUSGk9Z_YRBL"
      }
    },
    {
      "cell_type": "code",
      "source": [
        "print('Minimum Value: ', df['DIAS_ATIVO'].min())\n",
        "print('Maximum Value: ', df['DIAS_ATIVO'].max())\n",
        "print('Mean: ', df['DIAS_ATIVO'].mean())\n",
        "print('Median: ', df['DIAS_ATIVO'].median())\n",
        "print('STD: ', df['DIAS_ATIVO'].std())\n",
        "print('Mode: ', df['DIAS_ATIVO'].mode(),'\\n')"
      ],
      "metadata": {
        "colab": {
          "base_uri": "https://localhost:8080/"
        },
        "id": "D352jGx8YS73",
        "outputId": "60c47796-e90a-46ad-f44f-0ee94ce1a9c3"
      },
      "execution_count": 23,
      "outputs": [
        {
          "output_type": "stream",
          "name": "stdout",
          "text": [
            "Minimum Value:  22\n",
            "Maximum Value:  1296\n",
            "Mean:  520.9413569008759\n",
            "Median:  405.0\n",
            "STD:  379.7529070566445\n",
            "Mode:  0    161\n",
            "Name: DIAS_ATIVO, dtype: int64 \n",
            "\n"
          ]
        }
      ]
    },
    {
      "cell_type": "markdown",
      "source": [
        "Unique Values"
      ],
      "metadata": {
        "id": "v8u13YsUYqOJ"
      }
    },
    {
      "cell_type": "code",
      "source": [
        "unique_values = []\n",
        "for i in df.columns[0:14].tolist():\n",
        "    print(i, ':', len(df[i].astype(str).value_counts()))\n",
        "    unique_values.append(len(df[i].astype(str).value_counts()))"
      ],
      "metadata": {
        "colab": {
          "base_uri": "https://localhost:8080/"
        },
        "id": "CVXTr5zLYssl",
        "outputId": "aeeb79ab-edb8-4ade-e106-df2ff1db5cef"
      },
      "execution_count": 25,
      "outputs": [
        {
          "output_type": "stream",
          "name": "stdout",
          "text": [
            "ID_CLIENTE : 342336\n",
            "DATA_AQUISICAO : 1956\n",
            "DIAS_ATIVO : 1050\n",
            "MESES_ATIVO : 42\n",
            "PRAZO_FINANCIAMENTO : 4\n",
            "VALOR_TABELA : 4\n",
            "IDADE_CLIENTE : 100\n",
            "PRODUTO : 4\n",
            "QT_PC_PAGAS : 31\n",
            "QT_PC_VENCIDAS : 12\n",
            "QT_PC_PAGA_ATRASO : 7\n",
            "QT_PC_PAGA_EM_DIA : 30\n",
            "VALOR_PARCELAS_ATRASO : 62\n"
          ]
        }
      ]
    },
    {
      "cell_type": "markdown",
      "source": [
        "Verifying financing clients per vehicle type"
      ],
      "metadata": {
        "id": "8Gg_UOX7Y8Ey"
      }
    },
    {
      "cell_type": "code",
      "source": [
        "print('\\n', df.groupby(['PRODUTO']).size())"
      ],
      "metadata": {
        "colab": {
          "base_uri": "https://localhost:8080/"
        },
        "id": "WOinAMCoZFeg",
        "outputId": "2bb75cd3-8d65-438f-8335-80c203f117f2"
      },
      "execution_count": 27,
      "outputs": [
        {
          "output_type": "stream",
          "name": "stdout",
          "text": [
            "\n",
            " PRODUTO\n",
            "AUTOMOVEIS      245218\n",
            "CAMINHÕES         7156\n",
            "IMOVEIS          48476\n",
            "MOTOCICLETAS     42447\n",
            "dtype: int64\n"
          ]
        }
      ]
    },
    {
      "cell_type": "markdown",
      "source": [
        "Lowest Financing Value"
      ],
      "metadata": {
        "id": "OwdkisvuZR5A"
      }
    },
    {
      "cell_type": "code",
      "source": [
        "print('\\nThe Lowest Financing Value is:', df['VALOR_TABELA'].min(),'\\n')"
      ],
      "metadata": {
        "colab": {
          "base_uri": "https://localhost:8080/"
        },
        "id": "4PXwCTZ-ZU0g",
        "outputId": "1119f0ad-4d4f-4525-b6c2-224f7543cb25"
      },
      "execution_count": 29,
      "outputs": [
        {
          "output_type": "stream",
          "name": "stdout",
          "text": [
            "\n",
            "The Lowest Financing Value is: 20000 \n",
            "\n"
          ]
        }
      ]
    },
    {
      "cell_type": "markdown",
      "source": [
        "Highest Financing Value"
      ],
      "metadata": {
        "id": "KaPJfYl7ZfIk"
      }
    },
    {
      "cell_type": "code",
      "source": [
        "print('\\nThe Highest Financing Value is:', df['VALOR_TABELA'].max(),'\\n')"
      ],
      "metadata": {
        "colab": {
          "base_uri": "https://localhost:8080/"
        },
        "id": "T82857qXZk58",
        "outputId": "25f202e1-f360-45fc-84cd-2ed749680dc2"
      },
      "execution_count": 54,
      "outputs": [
        {
          "output_type": "stream",
          "name": "stdout",
          "text": [
            "\n",
            "The Highest Financing Value is: 300000 \n",
            "\n"
          ]
        }
      ]
    },
    {
      "cell_type": "markdown",
      "source": [
        "Boxplot Grafic"
      ],
      "metadata": {
        "id": "EofS8ZghbcHa"
      }
    },
    {
      "cell_type": "code",
      "source": [
        "sns.boxplot(data = df, y = \"DIAS_ATIVO\")\n",
        "plt.ylabel('Active Days')\n",
        "plt.show()"
      ],
      "metadata": {
        "colab": {
          "base_uri": "https://localhost:8080/",
          "height": 411
        },
        "id": "yz9bayZwbd4f",
        "outputId": "9a423f81-1d88-42ee-f88c-5329db900625"
      },
      "execution_count": 61,
      "outputs": [
        {
          "output_type": "display_data",
          "data": {
            "text/plain": [
              "<Figure size 640x480 with 1 Axes>"
            ],
            "image/png": "[encoded data removed]"
          },
          "metadata": {}
        }
      ]
    },
    {
      "cell_type": "markdown",
      "source": [
        "Histogram Grafic"
      ],
      "metadata": {
        "id": "0y6OxRW4bk1p"
      }
    },
    {
      "cell_type": "code",
      "source": [
        "sns.histplot(data = df, x = \"DIAS_ATIVO\")\n",
        "plt.xlabel('Active Days')\n",
        "plt.ylabel('Frequency')\n",
        "plt.show()"
      ],
      "metadata": {
        "colab": {
          "base_uri": "https://localhost:8080/",
          "height": 449
        },
        "id": "empsh2fIb-B2",
        "outputId": "e043c31f-fe67-40b2-92e6-3aedf1a07949"
      },
      "execution_count": 66,
      "outputs": [
        {
          "output_type": "display_data",
          "data": {
            "text/plain": [
              "<Figure size 640x480 with 1 Axes>"
            ],
            "image/png": "[encoded data removed]"
          },
          "metadata": {}
        }
      ]
    },
    {
      "cell_type": "markdown",
      "source": [
        "Grafic by Financing Term"
      ],
      "metadata": {
        "id": "LS6GMMXVcNAT"
      }
    },
    {
      "cell_type": "code",
      "source": [
        "sns.countplot(data = df, x= \"PRAZO_FINANCIAMENTO\")\n",
        "plt.xlabel('Financing Term')\n",
        "plt.ylabel('Total')\n",
        "plt.show()"
      ],
      "metadata": {
        "colab": {
          "base_uri": "https://localhost:8080/",
          "height": 449
        },
        "id": "W6d9wy26cUxR",
        "outputId": "b3bd6a87-13ab-446d-c931-e79212d8b7a1"
      },
      "execution_count": 69,
      "outputs": [
        {
          "output_type": "display_data",
          "data": {
            "text/plain": [
              "<Figure size 640x480 with 1 Axes>"
            ],
            "image/png": "[encoded data removed]"
          },
          "metadata": {}
        }
      ]
    },
    {
      "cell_type": "markdown",
      "source": [
        "Grafic using Financing Values"
      ],
      "metadata": {
        "id": "AVPeaMzIci5r"
      }
    },
    {
      "cell_type": "code",
      "source": [
        "sns.countplot(data = df, x = \"VALOR_TABELA\")\n",
        "plt.xlabel('Financing Value')\n",
        "plt.ylabel('Total')\n",
        "plt.show()"
      ],
      "metadata": {
        "colab": {
          "base_uri": "https://localhost:8080/",
          "height": 449
        },
        "id": "eFRgr48OckJU",
        "outputId": "1bdf9d85-778a-4ee2-bca8-507975358b8a"
      },
      "execution_count": 73,
      "outputs": [
        {
          "output_type": "display_data",
          "data": {
            "text/plain": [
              "<Figure size 640x480 with 1 Axes>"
            ],
            "image/png": "[encoded data removed]"
          },
          "metadata": {}
        }
      ]
    },
    {
      "cell_type": "markdown",
      "source": [
        "Same graphic but more readable"
      ],
      "metadata": {
        "id": "eFYc0WnFcxrU"
      }
    },
    {
      "cell_type": "code",
      "source": [
        "sns.countplot(data = df, x=\"VALOR_TABELA\", hue='PRODUTO')\n",
        "plt.xlabel('Financing Value')\n",
        "plt.ylabel('Total')\n",
        "plt.legend(title='Financing Product')\n",
        "plt.show()"
      ],
      "metadata": {
        "colab": {
          "base_uri": "https://localhost:8080/",
          "height": 449
        },
        "id": "ZU-1znmMc298",
        "outputId": "14bd5ec6-b6b9-4125-86bf-a1ecfe5cb115"
      },
      "execution_count": 78,
      "outputs": [
        {
          "output_type": "display_data",
          "data": {
            "text/plain": [
              "<Figure size 640x480 with 1 Axes>"
            ],
            "image/png": "[encoded data removed]"
          },
          "metadata": {}
        }
      ]
    }
  ]
}